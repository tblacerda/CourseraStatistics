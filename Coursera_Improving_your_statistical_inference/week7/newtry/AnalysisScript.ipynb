{
 "cells": [
  {
   "cell_type": "code",
   "execution_count": 36,
   "metadata": {},
   "outputs": [],
   "source": [
    "import pandas as pd\n",
    "\n",
    "_SEED = 1"
   ]
  },
  {
   "cell_type": "markdown",
   "metadata": {},
   "source": [
    "## *TOSTtwo* function ported to Python\n",
    "\n",
    "https://github.com/tblacerda/TOSTERpy/blob/main/TOSTtwo.py\n",
    "-----"
   ]
  },
  {
   "cell_type": "code",
   "execution_count": 37,
   "metadata": {},
   "outputs": [],
   "source": [
    "import pandas as pd\n",
    "import numpy as np\n",
    "from numpy import sqrt as sqrt\n",
    "import scipy.stats as stats\n",
    "from scipy.stats import t as student_t\n",
    "from statistics import stdev\n",
    "\n",
    "\n",
    "\n",
    "def TOSTtwo(m1, m2,\n",
    "            sd1, sd2,\n",
    "            n1, n2,\n",
    "            low_eqbound_d,\n",
    "            high_eqbound_d,\n",
    "            alpha = 0.05,\n",
    "            var_equal = False,\n",
    "            plot = False,\n",
    "            verbose = True):\n",
    "    '''\n",
    "    TOST function for an independent t-test (Cohen's d)\n",
    "    @param m1 mean of group 1\n",
    "    @param m2 mean of group 2\n",
    "    @param sd1 standard deviation of group 1\n",
    "    @param sd2 standard deviation of group 2\n",
    "    @param n1 sample size in group 1\n",
    "    @param n2 sample size in group 2\n",
    "    @param low_eqbound_d lower equivalence bounds (e.g., -0.5) expressed in standardized mean \n",
    "    difference (Cohen's d)\n",
    "    @param high_eqbound_d upper equivalence bounds (e.g., 0.5) expressed in standardized mean \n",
    "    difference (Cohen's d)\n",
    "    @param alpha alpha level (default = 0.05)\n",
    "    @param var.equal logical variable indicating whether equal variances assumption is assumed to \n",
    "    be TRUE or FALSE.  Defaults to FALSE.\n",
    "    @param plot set whether results should be plotted (plot = TRUE) or not (plot = FALSE) - defaults\n",
    "     to TRUE\n",
    "    @param verbose logical variable indicating whether text output should be generated (verbose \n",
    "    = TRUE) or not (verbose = FALSE) - default to TRUE\n",
    "    @return Returns TOST t-value 1, TOST p-value 1, TOST t-value 2, TOST p-value 2, degrees of \n",
    "    freedom, low equivalence bound, high equivalence bound, low equivalence bound in Cohen's d,\n",
    "     high equivalence bound in Cohen's d, Lower limit confidence interval TOST, Upper limit \n",
    "     confidence interval TOST\n",
    "    @importFrom stats pnorm pt qnorm qt\n",
    "    @importFrom graphics abline plot points segments title\n",
    "    @examples\n",
    "    ## Eskine (2013) showed that participants who had been exposed to organic\n",
    "    ## food were substantially harsher in their moral judgments relative to\n",
    "    ## those exposed to control (d = 0.81, 95% CI: [0.19, 1.45]). A\n",
    "    ## replication by Moery & Calin-Jageman (2016, Study 2) did not observe\n",
    "    ## a significant effect (Control: n = 95, M = 5.25, SD = 0.95, Organic\n",
    "    ## Food: n = 89, M = 5.22, SD = 0.83). Following Simonsohn's (2015)\n",
    "    ## recommendation the equivalence bound was set to the effect size the\n",
    "    ## original study had 33% power to detect (with n = 21 in each condition,\n",
    "    ## this means the equivalence bound is d = 0.48, which equals a\n",
    "    ## difference of 0.384 on a 7-point scale given the sample sizes and a\n",
    "    ## pooled standard deviation of 0.894). Using a TOST equivalence test\n",
    "    ## with default alpha = 0.05, not assuming equal variances, and equivalence\n",
    "    ## bounds of d = -0.43 and d = 0.43 is significant, t(182) = -2.69,\n",
    "    ## p = 0.004. We can reject effects larger than d = 0.43.\n",
    "    TOSTtwo(m1=5.25,m2=5.22,sd1=0.95,sd2=0.83,n1=95,n2=89,low_eqbound_d=-0.43,high_eqbound_d=0.43)\n",
    "    @section References:\n",
    "    Berger, R. L., & Hsu, J. C. (1996). Bioequivalence Trials, Intersection-Union Tests\n",
    "     and Equivalence Confidence Sets. Statistical Science, 11(4), 283-302.\n",
    "    Gruman, J. A., Cribbie, R. A., & Arpin-Cribbie, C. A. (2007).\n",
    "     The effects of heteroscedasticity on tests of equivalence. \n",
    "     Journal of Modern Applied Statistical Methods, 6(1), 133-140, \n",
    "     formula for Welch's t-test on page 135\n",
    "    \n",
    "    THIS FUNCTION WAS REPLICATED FOR EDUCATIONAL PURPOSES AS IT WAS REPLACED BY\n",
    "    tsum_TOST wich is better designed and has a broader usage.\n",
    "    Return list\n",
    "    '''\n",
    "\n",
    "    if  (n1 < 2) or (n2 < 2):\n",
    "        return \"The sample size should be larger than 1.\"\n",
    "\n",
    "    if (1<=alpha or alpha < 0):\n",
    "        return \"The alpha level should be a positive value between 0 and 1.\"\n",
    "    \n",
    "    if (sd1 <= 0 or sd2 <=0):\n",
    "        return \"The standard deviation should be a positive value.\"\n",
    "    \n",
    "    ## Fim dos checks\n",
    "      # Calculate TOST, t-test, 90% CIs and 95% CIs\n",
    "      \n",
    "    if var_equal == True:\n",
    "        sdpooled = sqrt((((n1 - 1)*(sd1**2))+(n2 - 1)*(sd2**2))/((n1+n2)-2))\n",
    "        low_eqbound = low_eqbound_d*sdpooled\n",
    "        high_eqbound = high_eqbound_d*sdpooled\n",
    "        degree_f = n1+n2-2\n",
    "    \n",
    "        dist = student_t(df=degree_f,loc=0,scale=1 )\n",
    "\n",
    "\n",
    "        t1 = ((m1-m2)-low_eqbound)/(sdpooled*sqrt(1/n1 + 1/n2))  #students t-test lower bound\n",
    "        lower_tail_false = 1- dist.cdf(t1)  \n",
    "        p1 = lower_tail_false \n",
    "        t2 = ((m1-m2)-high_eqbound)/(sdpooled*sqrt(1/n1 + 1/n2)) #students t-test upper bound\n",
    "        lower_tail_true = dist.cdf(t2)\n",
    "        p2 = lower_tail_true\n",
    "        \n",
    "        t = (m1-m2)/(sdpooled*sqrt(1/n1 + 1/n2))\n",
    "        \n",
    "        lower_tail_true2 = dist.cdf(-abs(t))\n",
    "        pttest = 2*lower_tail_true2\n",
    "        \n",
    "        LL90 = (m1-m2)-student_t.ppf(1-alpha, n1+n2-2)*(sdpooled*sqrt(1/n1 + 1/n2))\n",
    "        UL90 = (m1-m2)+student_t.ppf(1-alpha, n1+n2-2)*(sdpooled*sqrt(1/n1 + 1/n2))\n",
    "        LL95 = (m1-m2)-student_t.ppf(1-(alpha/2), n1+n2-2)*(sdpooled*sqrt(1/n1 + 1/n2))\n",
    "        UL95 = (m1-m2)+student_t.ppf(1-(alpha/2), n1+n2-2)*(sdpooled*sqrt(1/n1 + 1/n2))\n",
    "    else:\n",
    "        sdpooled = sqrt((sd1**2 + sd2**2)/2) #calculate sd root mean squared for Welch's t-test\n",
    "        low_eqbound = low_eqbound_d*sdpooled\n",
    "        high_eqbound = high_eqbound_d*sdpooled\n",
    "        degree_f = (sd1**2/n1+sd2**2/n2)**2/(((sd1**2/n1)**2/(n1-1))+((sd2**2/n2)**2/(n2-1))) #degrees of freedom for Welch's t-test        \n",
    "        dist = student_t(df=degree_f,loc=0,scale=1 )\n",
    "        t1 = ((m1-m2)-low_eqbound)/sqrt(sd1**2/n1 + sd2**2/n2) #welch's t-test upper bound\n",
    "        lower_tail_false = 1- dist.cdf(t1)  \n",
    "        p1 = lower_tail_false \n",
    "        t2 = ((m1-m2)-high_eqbound)/sqrt(sd1**2/n1 + sd2**2/n2) #welch's t-test lower bound\n",
    "        lower_tail_true = dist.cdf(t2)\n",
    "        p2 = lower_tail_true\n",
    "        t = (m1-m2)/sqrt(sd1**2/n1 + sd2**2/n2) #welch's t-test NHST    \n",
    "        lower_tail_true2 = dist.cdf(-abs(t))\n",
    "        pttest = 2*lower_tail_true2\n",
    "    \n",
    "        LL90 = (m1-m2)-student_t.ppf(1-alpha, degree_f)*sqrt(sd1**2/n1 + sd2**2/n2) #Lower limit for CI Welch's t-test\n",
    "        UL90 = (m1-m2)+student_t.ppf(1-alpha, degree_f)*sqrt(sd1**2/n1 + sd2**2/n2) #Upper limit for CI Welch's t-test\n",
    "        LL95 = (m1-m2)-student_t.ppf(1-(alpha/2), degree_f)*sqrt(sd1**2/n1 + sd2**2/n2) #Lower limit for CI Welch's t-test\n",
    "        UL95 = (m1-m2)+student_t.ppf(1-(alpha/2), degree_f)*sqrt(sd1**2/n1 + sd2**2/n2) #Upper limit for CI Welch's t-test\n",
    "  \n",
    "    ptost = max(p1,p2) #Get highest p-value for summary TOST result\n",
    "    ttost = t2\n",
    "    if (abs(t1) < abs(t2)):\n",
    "        ttost = t1\n",
    "  \n",
    "    dif = (m1-m2)\n",
    "    testoutcome = \"non-significant\"\n",
    "    \n",
    "    if pttest < alpha:\n",
    "        testoutcome = \"significant\"\n",
    "    \n",
    "    TOSToutcome = \"non-significant\"\n",
    "    if ptost<alpha:\n",
    "        TOSToutcome = \"significant\"\n",
    "    \n",
    "    if verbose == True:\n",
    "\n",
    "        print(\"TOST Results:\")\n",
    "        print(80*\"=\")\n",
    "        print(\"t-value lower bound: %0.4f ; tp-value lower bound: %0.4f\"%(t1, p1))\n",
    "        print(\"t-value upper bound: %0.4f ; tp-value upper bound: %0.4f\"%(t2, p2))\n",
    "        print(\"Degrees of freedom: %0.2f\"%(round(degree_f, 2)))\n",
    "        print(\"Equivalence bounds (Cohen's d): low eqbound: %0.4f ; high eqbound: %0.4f\"%(low_eqbound_d, high_eqbound_d))\n",
    "        print(\"TOST confidence interval: lower bound %0.4f CI: %0.4f; upper bound %0.4f CI: %0.4f\"%((100*1-alpha*2),round(LL90,3),(100*1-alpha*2),round(UL90,3)))\n",
    "        print(\"NHST confidence interval: lower bound %0.4f CI: %0.4f; upper bound %0.4f CI: %0.4f\"%((100*1-alpha),round(LL95,3),(100*1-alpha),round(UL95,3)))\n",
    "        print(\"\\nEquivalence Test Result:\")\n",
    "        print(80*\"=\")\n",
    "        print(\"The equivalence test was %s, t(%0.2f) = %0.4f, p = %0.4f, given equivalence bounds of %0.4f and %0.4f (on a raw scale) and an alpha of %0.3f\"%(TOSToutcome, degree_f,ttost, ptost, low_eqbound, high_eqbound, alpha))\n",
    "        \n",
    "        print(\"\\nNull Hypothesis Test Result:\")\n",
    "        print(80*\"=\")\n",
    "        print(\"The null hypothesis test was %s, t(%0.4f) = %0.4f, p = %0.4f, given an alpha of %0.3f\"%(testoutcome, degree_f, t, pttest, alpha))\n",
    "\n",
    "        if (pttest <= alpha and ptost <= alpha):\n",
    "            combined_outcome = \"NHST: reject null significance hypothesis that the effect is equal to 0. \\n TOST: reject null equivalence hypothesis.\"\n",
    "        \n",
    "        if (pttest < alpha and ptost > alpha):\n",
    "            combined_outcome = \"NHST: reject null significance hypothesis that the effect is equal to 0. \\n TOST: Don't reject null equivalence hypothesis.\"\n",
    "\n",
    "        if (pttest > alpha and ptost <= alpha):\n",
    "            combined_outcome = \"NHST: Don't reject null significance hypothesis that the effect is equal to 0. \\n TOST: reject null equivalence hypothesis.\"\n",
    "        \n",
    "        if (pttest > alpha and ptost > alpha):\n",
    "            combined_outcome = \"NHST: Don't reject null significance hypothesis that the effect is equal to 0. \\n TOST: Don't reject null equivalence hypothesis.\"\n",
    "        print(\"\\nOutcome:\\n %s\"%(combined_outcome))\n",
    "        print(80*\"=\")\n",
    "\n",
    "    return [dif, t1, p1, t2, p2, degree_f, low_eqbound, high_eqbound, low_eqbound_d, high_eqbound_d,\n",
    "            LL90, UL90, LL95, UL95, t, pttest]\n",
    "\n",
    " \n",
    "\n",
    "# TOSTtwo(m1 = 4.55,\n",
    "#         m2 = 4.87,\n",
    "#         sd1 = 1.05,\n",
    "#         sd2 = 1.11,\n",
    "#         n1 = 150,\n",
    "#         n2 = 15,\n",
    "#         low_eqbound_d= -0.5,\n",
    "#         high_eqbound_d= 0.5)"
   ]
  },
  {
   "cell_type": "code",
   "execution_count": 38,
   "metadata": {},
   "outputs": [],
   "source": [
    "df_merge = pd.read_excel('Input_data.xlsx')"
   ]
  },
  {
   "cell_type": "code",
   "execution_count": 39,
   "metadata": {},
   "outputs": [],
   "source": [
    "df_before_2010 = df_merge.loc[df_merge['startYear']<2010]\n",
    "df_after_2010 = df_merge.loc[df_merge['startYear']>=2010]"
   ]
  },
  {
   "cell_type": "code",
   "execution_count": 40,
   "metadata": {},
   "outputs": [],
   "source": [
    "df_before_2010 = df_before_2010.sample(542) \n",
    "df_after_2010 = df_after_2010.sample(542) \n"
   ]
  },
  {
   "cell_type": "code",
   "execution_count": 41,
   "metadata": {},
   "outputs": [],
   "source": [
    "M1 = df_before_2010['averageRating'].mean()\n",
    "SD1 = df_before_2010['averageRating'].std()\n",
    "N1 = df_before_2010['averageRating'].count()\n",
    "\n",
    "M2 = df_after_2010['averageRating'].mean()\n",
    "SD2 = df_after_2010['averageRating'].std()\n",
    "N2 = df_after_2010['averageRating'].count()"
   ]
  },
  {
   "cell_type": "code",
   "execution_count": 42,
   "metadata": {},
   "outputs": [
    {
     "name": "stdout",
     "output_type": "stream",
     "text": [
      "Before 2010, there are N = 542 war films with an average rating of 6.4827 and Standard Deviation of 1.0469 in the IMDB Dataset\n",
      "In and after 2010, there are N = 542 war films with an average rating of 6.5354 and Standard Deviation of 1.4274 in the IMDB Dataset\n"
     ]
    }
   ],
   "source": [
    "print('Before 2010, there are N = %i war films with an average rating of %.4f and Standard Deviation of %.4f in the IMDB Dataset'%(N1,M1,SD1))\n",
    "print('In and after 2010, there are N = %i war films with an average rating of %.4f and Standard Deviation of %.4f in the IMDB Dataset'%(N2,M2,SD2))"
   ]
  },
  {
   "cell_type": "markdown",
   "metadata": {},
   "source": [
    "### Analysis\n",
    "----"
   ]
  },
  {
   "cell_type": "code",
   "execution_count": 43,
   "metadata": {},
   "outputs": [
    {
     "name": "stdout",
     "output_type": "stream",
     "text": [
      "TOST Results:\n",
      "================================================================================\n",
      "t-value lower bound: 2.5984 ; tp-value lower bound: 0.0048\n",
      "t-value upper bound: -3.9864 ; tp-value upper bound: 0.0000\n",
      "Degrees of freedom: 992.44\n",
      "Equivalence bounds (Cohen's d): low eqbound: -0.2000 ; high eqbound: 0.2000\n",
      "TOST confidence interval: lower bound 99.9000 CI: -0.1780; upper bound 99.9000 CI: 0.0720\n",
      "NHST confidence interval: lower bound 99.9500 CI: -0.2020; upper bound 99.9500 CI: 0.0960\n",
      "\n",
      "Equivalence Test Result:\n",
      "================================================================================\n",
      "The equivalence test was significant, t(992.44) = 2.5984, p = 0.0048, given equivalence bounds of -0.2503 and 0.2503 (on a raw scale) and an alpha of 0.050\n",
      "\n",
      "Null Hypothesis Test Result:\n",
      "================================================================================\n",
      "The null hypothesis test was non-significant, t(992.4445) = -0.6940, p = 0.4878, given an alpha of 0.050\n",
      "\n",
      "Outcome:\n",
      " NHST: Don't reject null significance hypothesis that the effect is equal to 0. \n",
      " TOST: reject null equivalence hypothesis.\n",
      "================================================================================\n"
     ]
    },
    {
     "data": {
      "text/plain": [
       "[-0.05276752767527526,\n",
       " 2.5984186450515923,\n",
       " 0.004752126893146524,\n",
       " -3.986412408210139,\n",
       " 3.5997824194233554e-05,\n",
       " 992.4445440317671,\n",
       " -0.25033632287316726,\n",
       " 0.25033632287316726,\n",
       " -0.2,\n",
       " 0.2,\n",
       " -0.17794957875209455,\n",
       " 0.07241452340154403,\n",
       " -0.20197387105736767,\n",
       " 0.09643881570681714,\n",
       " -0.6939968815792733,\n",
       " 0.4878465713368376]"
      ]
     },
     "execution_count": 43,
     "metadata": {},
     "output_type": "execute_result"
    }
   ],
   "source": [
    "TOSTtwo(m1 = M1,\n",
    "        m2 = M2,\n",
    "        sd1 = SD1,\n",
    "        sd2 = SD2,\n",
    "        n1 = N1,\n",
    "        n2 = N2,\n",
    "        low_eqbound_d= -0.2,\n",
    "        high_eqbound_d= 0.2)"
   ]
  },
  {
   "cell_type": "markdown",
   "metadata": {},
   "source": [
    "M1-M2"
   ]
  },
  {
   "cell_type": "code",
   "execution_count": 44,
   "metadata": {},
   "outputs": [
    {
     "data": {
      "text/plain": [
       "-0.05276752767527526"
      ]
     },
     "execution_count": 44,
     "metadata": {},
     "output_type": "execute_result"
    }
   ],
   "source": [
    "M1-M2"
   ]
  }
 ],
 "metadata": {
  "interpreter": {
   "hash": "399b38b49e6ab1a4889ffee7f5ee0a7e8b0aa125582fa90335082459ce8e2781"
  },
  "kernelspec": {
   "display_name": "Python 3.8.12 ('base')",
   "language": "python",
   "name": "python3"
  },
  "language_info": {
   "codemirror_mode": {
    "name": "ipython",
    "version": 3
   },
   "file_extension": ".py",
   "mimetype": "text/x-python",
   "name": "python",
   "nbconvert_exporter": "python",
   "pygments_lexer": "ipython3",
   "version": "3.8.12"
  },
  "orig_nbformat": 4
 },
 "nbformat": 4,
 "nbformat_minor": 2
}
